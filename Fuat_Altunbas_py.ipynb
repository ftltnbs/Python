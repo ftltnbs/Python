{
  "nbformat": 4,
  "nbformat_minor": 0,
  "metadata": {
    "colab": {
      "provenance": [],
      "authorship_tag": "ABX9TyNkPbRpbqYiCudpdr568w6g",
      "include_colab_link": true
    },
    "kernelspec": {
      "name": "python3",
      "display_name": "Python 3"
    },
    "language_info": {
      "name": "python"
    }
  },
  "cells": [
    {
      "cell_type": "markdown",
      "metadata": {
        "id": "view-in-github",
        "colab_type": "text"
      },
      "source": [
        "<a href=\"https://colab.research.google.com/github/ftltnbs/Python/blob/master/Fuat_Altunbas_py.ipynb\" target=\"_parent\"><img src=\"https://colab.research.google.com/assets/colab-badge.svg\" alt=\"Open In Colab\"/></a>"
      ]
    },
    {
      "cell_type": "code",
      "execution_count": null,
      "metadata": {
        "id": "eCz4c870cXzh"
      },
      "outputs": [],
      "source": [
        "import random\n",
        "\n",
        "kullanici = input(\"Seciminizi girin (tas, kagit, makas): \")\n",
        "olasi_ihtimaller = [\"tas\", \"kagit\", \"makas\"]\n",
        "bilgisayar = random.choice(olasi_ihtimaller)\n",
        "print(f\"\\nSizin seciminiz {kullanici}, bilgisayarin secimi {bilgisayar}.\\n\")\n",
        "\n",
        "if kullanici == bilgisayar:\n",
        "    print(f\"Her iki oyuncu da seçildi {kullanici}. Berabere\")\n",
        "elif kullanici == \"tas\":\n",
        "    if bilgisayar == \"makas\":\n",
        "        print(\"Taş makası ezer! Kazandiniz!\")\n",
        "    else:\n",
        "        print(\"kağıt taşı örter  Kaybettiniz.\")\n",
        "elif kullanici == \"kagit\":\n",
        "    if bilgisayar == \"tas\":\n",
        "        print(\"kağıt taşı örter  Kazandiniz!\")\n",
        "    else:\n",
        "        print(\" makas kağıdı keser Kaybettiniz.\")\n",
        "elif kullanici == \"makas\":\n",
        "    if bilgisayar == \"kagit\":\n",
        "        print(\" makas kağıdı keser Kazandiniz!\")\n",
        "    else:\n",
        "        print(\"taş makası ezer, Kaybettiniz.\")"
      ]
    }
  ]
}